{
 "cells": [
  {
   "cell_type": "markdown",
   "id": "6d9c078d",
   "metadata": {},
   "source": [
    "<div class=\"alert alert-danger\" role=\"alert\">\n",
    "    <span style=\"font-size:20px\">&#9888;</span> <span style=\"font-size:16px\">This is a read-only notebook! If you want to make and save changes, save a copy by clicking on <b>File</b> &#8594; <b>Save a copy</b>. If this is already a copy, you can delete this cell.</span>\n",
    "</div>"
   ]
  },
  {
   "cell_type": "markdown",
   "id": "ba2a7ddc",
   "metadata": {},
   "source": [
    "# Data cleaning transformations\n",
    "\n",
    "This notebook provides methods to aid you in data cleaning.\n",
    "\n",
    "**Table of contents**\n",
    "    \n",
    "<ul class=\"toc-item\"><li><span><a href=\"#Data-cleaning-transformations\" data-toc-modified-id=\"Data-cleaning-transformations-1\"><span class=\"toc-item-num\">1&nbsp;&nbsp;</span>Data cleaning transformations</a></span></li><li><span><a href=\"#Quick-Dataset-Overview\" data-toc-modified-id=\"Quick-Dataset-Overview-2\"><span class=\"toc-item-num\">2&nbsp;&nbsp;</span>Quick Dataset Overview</a></span></li><li><span><a href=\"#Missing-Value-Imputation\" data-toc-modified-id=\"Missing-Value-Imputation-3\"><span class=\"toc-item-num\">3&nbsp;&nbsp;</span>Missing Value Imputation</a></span><ul class=\"toc-item\"><li><span><a href=\"#Imputation-for-numerical-variables\" data-toc-modified-id=\"Imputation-for-numerical-variables-3.1\"><span class=\"toc-item-num\">3.1&nbsp;&nbsp;</span>Imputation for numerical variables</a></span><ul class=\"toc-item\"><li><span><a href=\"#Imputation-based-on-known-formula/relationship\" data-toc-modified-id=\"Imputation-based-on-known-formula/relationship-3.1.1\"><span class=\"toc-item-num\">3.1.1&nbsp;&nbsp;</span>Imputation based on known formula/relationship</a></span></li><li><span><a href=\"#Imputation-with-mean/median\" data-toc-modified-id=\"Imputation-with-mean/median-3.1.2\"><span class=\"toc-item-num\">3.1.2&nbsp;&nbsp;</span>Imputation with mean/median</a></span></li><li><span><a href=\"#Imputation-based-on-grouping\" data-toc-modified-id=\"Imputation-based-on-grouping-3.1.3\"><span class=\"toc-item-num\">3.1.3&nbsp;&nbsp;</span>Imputation based on grouping</a></span></li><li><span><a href=\"#Imputation-by-regression\" data-toc-modified-id=\"Imputation-by-regression-3.1.4\"><span class=\"toc-item-num\">3.1.4&nbsp;&nbsp;</span>Imputation by regression</a></span></li></ul></li><li><span><a href=\"#Imputation-for-categorical-variables\" data-toc-modified-id=\"Imputation-for-categorical-variables-3.2\"><span class=\"toc-item-num\">3.2&nbsp;&nbsp;</span>Imputation for categorical variables</a></span><ul class=\"toc-item\"><li><span><a href=\"#Imputation-with-the-mode\" data-toc-modified-id=\"Imputation-with-the-mode-3.2.1\"><span class=\"toc-item-num\">3.2.1&nbsp;&nbsp;</span>Imputation with the mode</a></span></li><li><span><a href=\"#Imputation-with-a-specific-value\" data-toc-modified-id=\"Imputation-with-a-specific-value-3.2.2\"><span class=\"toc-item-num\">3.2.2&nbsp;&nbsp;</span>Imputation with a specific value</a></span></li><li><span><a href=\"#Imputation-by-backfill-or-forward-fill\" data-toc-modified-id=\"Imputation-by-backfill-or-forward-fill-3.2.3\"><span class=\"toc-item-num\">3.2.3&nbsp;&nbsp;</span>Imputation by backfill or forward fill</a></span></li><li><span><a href=\"#Imputation-by-grouping\" data-toc-modified-id=\"Imputation-by-grouping-3.2.4\"><span class=\"toc-item-num\">3.2.4&nbsp;&nbsp;</span>Imputation by grouping</a></span></li></ul></li></ul></li><li><span><a href=\"#Standardizing-capitalization\" data-toc-modified-id=\"Standardizing-capitalization-4\"><span class=\"toc-item-num\">4&nbsp;&nbsp;</span>Standardizing capitalization</a></span></li></ul>\n",
    "\n",
    "This notebook primarily uses capabilities from numpy and pandas. \n",
    "\n",
    "**We begin by importing key libraries**"
   ]
  },
  {
   "cell_type": "code",
   "execution_count": 1,
   "id": "019fc21f",
   "metadata": {},
   "outputs": [],
   "source": [
    "# Import key libraries\n",
    "import pandas as pd\n",
    "import numpy as np\n",
    "import matplotlib.pyplot as plt\n",
    "from sklearn.linear_model import LinearRegression"
   ]
  },
  {
   "cell_type": "markdown",
   "id": "6264447b",
   "metadata": {},
   "source": [
    "**Optional import of OW color scheme**"
   ]
  },
  {
   "cell_type": "code",
   "execution_count": 2,
   "id": "889fa9fe",
   "metadata": {},
   "outputs": [],
   "source": [
    "# Load in OW color scheme and plot style\n",
    "plt.style.use('../../utilities/resources/ow_style.mplstyle')\n",
    "\n",
    "# Add path of the folder 'utilities' to the path from which we can import modules  \n",
    "import sys\n",
    "sys.path.append('../../utilities')\n",
    "from resources.ow_colormap import ow_colormap "
   ]
  },
  {
   "cell_type": "markdown",
   "id": "acb87d33",
   "metadata": {},
   "source": [
    "**Load in data from CSV**\n",
    "\n",
    "We read in the data from a CSV containing data about used car auction sales"
   ]
  },
  {
   "cell_type": "code",
   "execution_count": 3,
   "id": "53d51ad2",
   "metadata": {},
   "outputs": [],
   "source": [
    "dataset = pd.read_csv(\"sample_input/transformations_used_cars.csv\", low_memory=False)"
   ]
  },
  {
   "cell_type": "markdown",
   "id": "8653048c",
   "metadata": {},
   "source": [
    "# Quick Dataset Overview\n",
    "\n",
    "We use the following pandas methods to obtain basic information about the contents of the data:\n",
    "* <b>.info()</b>: Column names, number of non-nulls, and column data type\n",
    "* <b>.head()</b>: See top rows of each data field"
   ]
  },
  {
   "cell_type": "code",
   "execution_count": 4,
   "id": "46cd4e2a",
   "metadata": {},
   "outputs": [
    {
     "data": {
      "text/html": [
       "<div>\n",
       "<style scoped>\n",
       "    .dataframe tbody tr th:only-of-type {\n",
       "        vertical-align: middle;\n",
       "    }\n",
       "\n",
       "    .dataframe tbody tr th {\n",
       "        vertical-align: top;\n",
       "    }\n",
       "\n",
       "    .dataframe thead th {\n",
       "        text-align: right;\n",
       "    }\n",
       "</style>\n",
       "<table border=\"1\" class=\"dataframe\">\n",
       "  <thead>\n",
       "    <tr style=\"text-align: right;\">\n",
       "      <th></th>\n",
       "      <th>IsBadBuy</th>\n",
       "      <th>PurchDate</th>\n",
       "      <th>Auction</th>\n",
       "      <th>VehYear</th>\n",
       "      <th>VehicleAge</th>\n",
       "      <th>Make</th>\n",
       "      <th>Model</th>\n",
       "      <th>Trim</th>\n",
       "      <th>SubModel</th>\n",
       "      <th>Color</th>\n",
       "      <th>Transmission</th>\n",
       "      <th>WheelTypeID</th>\n",
       "      <th>WheelType</th>\n",
       "      <th>VehOdo</th>\n",
       "      <th>Nationality</th>\n",
       "      <th>Size</th>\n",
       "      <th>MMRAcquisitionAuctionAveragePrice</th>\n",
       "      <th>VehBCost</th>\n",
       "      <th>WarrantyCost</th>\n",
       "    </tr>\n",
       "  </thead>\n",
       "  <tbody>\n",
       "    <tr>\n",
       "      <th>0</th>\n",
       "      <td>0</td>\n",
       "      <td>6/17/2009</td>\n",
       "      <td>MANHEIM</td>\n",
       "      <td>2001</td>\n",
       "      <td>8.0</td>\n",
       "      <td>NISSAN</td>\n",
       "      <td>ALTIMA 2.4L I4 EFI</td>\n",
       "      <td>GXE</td>\n",
       "      <td>4D SEDAN GXE</td>\n",
       "      <td>WHITE</td>\n",
       "      <td>AUTO</td>\n",
       "      <td>2.0</td>\n",
       "      <td>Covers</td>\n",
       "      <td>80702.0</td>\n",
       "      <td>TOP LINE ASIAN</td>\n",
       "      <td>MEDIUM</td>\n",
       "      <td>2942.0</td>\n",
       "      <td>4160.0</td>\n",
       "      <td>1023</td>\n",
       "    </tr>\n",
       "    <tr>\n",
       "      <th>1</th>\n",
       "      <td>0</td>\n",
       "      <td>10/5/2010</td>\n",
       "      <td>OTHER</td>\n",
       "      <td>2008</td>\n",
       "      <td>Five</td>\n",
       "      <td>FORD</td>\n",
       "      <td>TAURUS</td>\n",
       "      <td>SEL</td>\n",
       "      <td>4D SEDAN SEL</td>\n",
       "      <td>SILVER</td>\n",
       "      <td>AUTO</td>\n",
       "      <td>1.0</td>\n",
       "      <td>Alloy</td>\n",
       "      <td>88245.0</td>\n",
       "      <td>AMERICAN</td>\n",
       "      <td>MEDIUM</td>\n",
       "      <td>9817.0</td>\n",
       "      <td>7850.0</td>\n",
       "      <td>1633</td>\n",
       "    </tr>\n",
       "  </tbody>\n",
       "</table>\n",
       "</div>"
      ],
      "text/plain": [
       "   IsBadBuy  PurchDate  Auction  VehYear VehicleAge    Make  \\\n",
       "0         0  6/17/2009  MANHEIM     2001        8.0  NISSAN   \n",
       "1         0  10/5/2010    OTHER     2008       Five    FORD   \n",
       "\n",
       "                Model Trim      SubModel   Color Transmission  WheelTypeID  \\\n",
       "0  ALTIMA 2.4L I4 EFI  GXE  4D SEDAN GXE   WHITE         AUTO          2.0   \n",
       "1              TAURUS  SEL  4D SEDAN SEL  SILVER         AUTO          1.0   \n",
       "\n",
       "  WheelType   VehOdo     Nationality    Size  \\\n",
       "0    Covers  80702.0  TOP LINE ASIAN  MEDIUM   \n",
       "1     Alloy  88245.0        AMERICAN  MEDIUM   \n",
       "\n",
       "   MMRAcquisitionAuctionAveragePrice  VehBCost  WarrantyCost  \n",
       "0                             2942.0    4160.0          1023  \n",
       "1                             9817.0    7850.0          1633  "
      ]
     },
     "execution_count": 4,
     "metadata": {},
     "output_type": "execute_result"
    }
   ],
   "source": [
    "dataset.head(2)"
   ]
  },
  {
   "cell_type": "code",
   "execution_count": 5,
   "id": "1a6fb285",
   "metadata": {},
   "outputs": [
    {
     "name": "stdout",
     "output_type": "stream",
     "text": [
      "<class 'pandas.core.frame.DataFrame'>\n",
      "RangeIndex: 5000 entries, 0 to 4999\n",
      "Data columns (total 19 columns):\n",
      " #   Column                             Non-Null Count  Dtype  \n",
      "---  ------                             --------------  -----  \n",
      " 0   IsBadBuy                           5000 non-null   int64  \n",
      " 1   PurchDate                          5000 non-null   object \n",
      " 2   Auction                            5000 non-null   object \n",
      " 3   VehYear                            5000 non-null   int64  \n",
      " 4   VehicleAge                         4783 non-null   object \n",
      " 5   Make                               5000 non-null   object \n",
      " 6   Model                              5000 non-null   object \n",
      " 7   Trim                               4846 non-null   object \n",
      " 8   SubModel                           5000 non-null   object \n",
      " 9   Color                              5000 non-null   object \n",
      " 10  Transmission                       5000 non-null   object \n",
      " 11  WheelTypeID                        3603 non-null   float64\n",
      " 12  WheelType                          3603 non-null   object \n",
      " 13  VehOdo                             4670 non-null   float64\n",
      " 14  Nationality                        4999 non-null   object \n",
      " 15  Size                               4999 non-null   object \n",
      " 16  MMRAcquisitionAuctionAveragePrice  4979 non-null   float64\n",
      " 17  VehBCost                           5000 non-null   float64\n",
      " 18  WarrantyCost                       5000 non-null   int64  \n",
      "dtypes: float64(4), int64(3), object(12)\n",
      "memory usage: 742.3+ KB\n"
     ]
    }
   ],
   "source": [
    "dataset.info()"
   ]
  },
  {
   "cell_type": "markdown",
   "id": "fde409e0",
   "metadata": {},
   "source": [
    "<a id=\"dataset_overview\"></a>\n",
    "# Missing Value Imputation\n",
    "\n",
    "First check how many missing values are present:"
   ]
  },
  {
   "cell_type": "code",
   "execution_count": 6,
   "id": "b6984f74",
   "metadata": {},
   "outputs": [
    {
     "data": {
      "text/plain": [
       "WheelTypeID                          1397\n",
       "WheelType                            1397\n",
       "VehOdo                                330\n",
       "VehicleAge                            217\n",
       "Trim                                  154\n",
       "MMRAcquisitionAuctionAveragePrice      21\n",
       "Size                                    1\n",
       "Nationality                             1\n",
       "IsBadBuy                                0\n",
       "VehBCost                                0\n",
       "Color                                   0\n",
       "Transmission                            0\n",
       "PurchDate                               0\n",
       "SubModel                                0\n",
       "Model                                   0\n",
       "Make                                    0\n",
       "VehYear                                 0\n",
       "Auction                                 0\n",
       "WarrantyCost                            0\n",
       "dtype: int64"
      ]
     },
     "execution_count": 6,
     "metadata": {},
     "output_type": "execute_result"
    }
   ],
   "source": [
    "dataset.isnull().sum().sort_values(ascending=False)"
   ]
  },
  {
   "cell_type": "markdown",
   "id": "a8b4c25c",
   "metadata": {},
   "source": [
    "There are a number of different methods for imputation, which also depend on the datatype of the variable being imputed."
   ]
  },
  {
   "cell_type": "markdown",
   "id": "970130bb",
   "metadata": {},
   "source": [
    "## Imputation for numerical variables"
   ]
  },
  {
   "cell_type": "markdown",
   "id": "609acd00",
   "metadata": {},
   "source": [
    "### Imputation based on known formula/relationship\n",
    "\n"
   ]
  },
  {
   "cell_type": "markdown",
   "id": "37df7196",
   "metadata": {},
   "source": [
    "**Impute missing vehicle age using known formula, and saving to the same column**"
   ]
  },
  {
   "cell_type": "code",
   "execution_count": 7,
   "id": "2c30fa66",
   "metadata": {},
   "outputs": [],
   "source": [
    "dataset['VehicleAge'] = pd.to_numeric(dataset['VehicleAge'], errors='coerce')\n",
    "dataset['PurchaseYear'] = pd.to_datetime(dataset['PurchDate']).apply(lambda x: x.year)\n",
    "dataset['ImputedAge'] = dataset['VehicleAge'].fillna(dataset['PurchaseYear'] - dataset['VehYear'])"
   ]
  },
  {
   "cell_type": "markdown",
   "id": "d56e551e",
   "metadata": {},
   "source": [
    "### Imputation with mean/median"
   ]
  },
  {
   "cell_type": "code",
   "execution_count": 8,
   "id": "b9184db7",
   "metadata": {},
   "outputs": [],
   "source": [
    "dataset.loc[dataset['MMRAcquisitionAuctionAveragePrice'] == 0, 'MMRAcquisitionAuctionAveragePrice'] = np.nan\n",
    "median_value = dataset['MMRAcquisitionAuctionAveragePrice'].median()\n",
    "dataset['ImputedAveragePrice'] = dataset['MMRAcquisitionAuctionAveragePrice'].fillna(median_value)\n",
    "dataset['ImputedAveragePrice_flag'] = dataset['MMRAcquisitionAuctionAveragePrice'].isnull().astype(int)"
   ]
  },
  {
   "cell_type": "markdown",
   "id": "aaa6d968",
   "metadata": {},
   "source": [
    "### Imputation based on grouping"
   ]
  },
  {
   "cell_type": "code",
   "execution_count": 9,
   "id": "17c82d55",
   "metadata": {},
   "outputs": [],
   "source": [
    "# Impute vehicle mileage based on average mileage by age\n",
    "mileage_by_age = dataset.groupby('ImputedAge')['VehOdo'].transform(lambda x:x.mean())"
   ]
  },
  {
   "cell_type": "markdown",
   "id": "1c4fa57c",
   "metadata": {},
   "source": [
    "The `fillna` method can take a series and use only relevant values from that series for imputation"
   ]
  },
  {
   "cell_type": "code",
   "execution_count": 10,
   "id": "ef915624",
   "metadata": {},
   "outputs": [
    {
     "data": {
      "text/html": [
       "<div>\n",
       "<style scoped>\n",
       "    .dataframe tbody tr th:only-of-type {\n",
       "        vertical-align: middle;\n",
       "    }\n",
       "\n",
       "    .dataframe tbody tr th {\n",
       "        vertical-align: top;\n",
       "    }\n",
       "\n",
       "    .dataframe thead th {\n",
       "        text-align: right;\n",
       "    }\n",
       "</style>\n",
       "<table border=\"1\" class=\"dataframe\">\n",
       "  <thead>\n",
       "    <tr style=\"text-align: right;\">\n",
       "      <th></th>\n",
       "      <th>VehOdo</th>\n",
       "      <th>ImputedVehOdo</th>\n",
       "      <th>ImputedVehOdo_flag</th>\n",
       "    </tr>\n",
       "  </thead>\n",
       "  <tbody>\n",
       "    <tr>\n",
       "      <th>0</th>\n",
       "      <td>80702.0</td>\n",
       "      <td>80702.000000</td>\n",
       "      <td>0</td>\n",
       "    </tr>\n",
       "    <tr>\n",
       "      <th>1</th>\n",
       "      <td>88245.0</td>\n",
       "      <td>88245.000000</td>\n",
       "      <td>0</td>\n",
       "    </tr>\n",
       "    <tr>\n",
       "      <th>2</th>\n",
       "      <td>83441.0</td>\n",
       "      <td>83441.000000</td>\n",
       "      <td>0</td>\n",
       "    </tr>\n",
       "    <tr>\n",
       "      <th>3</th>\n",
       "      <td>NaN</td>\n",
       "      <td>71622.271889</td>\n",
       "      <td>1</td>\n",
       "    </tr>\n",
       "    <tr>\n",
       "      <th>4</th>\n",
       "      <td>76989.0</td>\n",
       "      <td>76989.000000</td>\n",
       "      <td>0</td>\n",
       "    </tr>\n",
       "  </tbody>\n",
       "</table>\n",
       "</div>"
      ],
      "text/plain": [
       "    VehOdo  ImputedVehOdo  ImputedVehOdo_flag\n",
       "0  80702.0   80702.000000                   0\n",
       "1  88245.0   88245.000000                   0\n",
       "2  83441.0   83441.000000                   0\n",
       "3      NaN   71622.271889                   1\n",
       "4  76989.0   76989.000000                   0"
      ]
     },
     "execution_count": 10,
     "metadata": {},
     "output_type": "execute_result"
    }
   ],
   "source": [
    "dataset['ImputedVehOdo'] = dataset['VehOdo'].fillna(mileage_by_age) \n",
    "dataset['ImputedVehOdo_flag'] = 1*dataset['VehOdo'].isnull()\n",
    "dataset[['VehOdo', 'ImputedVehOdo', 'ImputedVehOdo_flag']].head()"
   ]
  },
  {
   "cell_type": "markdown",
   "id": "3e680adb",
   "metadata": {},
   "source": [
    "### Imputation by regression"
   ]
  },
  {
   "cell_type": "code",
   "execution_count": 11,
   "id": "c99df014",
   "metadata": {},
   "outputs": [
    {
     "name": "stdout",
     "output_type": "stream",
     "text": [
      "Insample R^2 is: 0.7882271328156077\n"
     ]
    }
   ],
   "source": [
    "linreg = LinearRegression()\n",
    "model_dataset = dataset[['MMRAcquisitionAuctionAveragePrice', 'VehBCost', 'ImputedAge']].dropna()\n",
    "X_train = model_dataset[['VehBCost', 'ImputedAge']]\n",
    "y_train = model_dataset['MMRAcquisitionAuctionAveragePrice']\n",
    "\n",
    "linreg_trained = linreg.fit(y=y_train, X=X_train)\n",
    "print(\"Insample R^2 is: \" + str(linreg_trained.score(y=y_train, X=X_train)))\n",
    "predicted_price = pd.Series(linreg.predict(X = dataset[['VehBCost', 'ImputedAge']]), index=dataset.index)"
   ]
  },
  {
   "cell_type": "code",
   "execution_count": 12,
   "id": "a8c2e7cb",
   "metadata": {},
   "outputs": [],
   "source": [
    "dataset['ImputedAveragePrice_regression'] = dataset['MMRAcquisitionAuctionAveragePrice'].fillna(predicted_price)"
   ]
  },
  {
   "cell_type": "code",
   "execution_count": 13,
   "id": "8c292e19",
   "metadata": {},
   "outputs": [
    {
     "data": {
      "text/html": [
       "<div>\n",
       "<style scoped>\n",
       "    .dataframe tbody tr th:only-of-type {\n",
       "        vertical-align: middle;\n",
       "    }\n",
       "\n",
       "    .dataframe tbody tr th {\n",
       "        vertical-align: top;\n",
       "    }\n",
       "\n",
       "    .dataframe thead th {\n",
       "        text-align: right;\n",
       "    }\n",
       "</style>\n",
       "<table border=\"1\" class=\"dataframe\">\n",
       "  <thead>\n",
       "    <tr style=\"text-align: right;\">\n",
       "      <th></th>\n",
       "      <th>MMRAcquisitionAuctionAveragePrice</th>\n",
       "      <th>ImputedAveragePrice</th>\n",
       "      <th>ImputedAveragePrice_regression</th>\n",
       "      <th>ImputedAveragePrice_flag</th>\n",
       "    </tr>\n",
       "  </thead>\n",
       "  <tbody>\n",
       "    <tr>\n",
       "      <th>4995</th>\n",
       "      <td>NaN</td>\n",
       "      <td>6209.0</td>\n",
       "      <td>8787.220535</td>\n",
       "      <td>1</td>\n",
       "    </tr>\n",
       "    <tr>\n",
       "      <th>4996</th>\n",
       "      <td>8043.0</td>\n",
       "      <td>8043.0</td>\n",
       "      <td>8043.000000</td>\n",
       "      <td>0</td>\n",
       "    </tr>\n",
       "    <tr>\n",
       "      <th>4997</th>\n",
       "      <td>NaN</td>\n",
       "      <td>6209.0</td>\n",
       "      <td>7201.755069</td>\n",
       "      <td>1</td>\n",
       "    </tr>\n",
       "    <tr>\n",
       "      <th>4998</th>\n",
       "      <td>7080.0</td>\n",
       "      <td>7080.0</td>\n",
       "      <td>7080.000000</td>\n",
       "      <td>0</td>\n",
       "    </tr>\n",
       "    <tr>\n",
       "      <th>4999</th>\n",
       "      <td>4246.0</td>\n",
       "      <td>4246.0</td>\n",
       "      <td>4246.000000</td>\n",
       "      <td>0</td>\n",
       "    </tr>\n",
       "  </tbody>\n",
       "</table>\n",
       "</div>"
      ],
      "text/plain": [
       "      MMRAcquisitionAuctionAveragePrice  ImputedAveragePrice  \\\n",
       "4995                                NaN               6209.0   \n",
       "4996                             8043.0               8043.0   \n",
       "4997                                NaN               6209.0   \n",
       "4998                             7080.0               7080.0   \n",
       "4999                             4246.0               4246.0   \n",
       "\n",
       "      ImputedAveragePrice_regression  ImputedAveragePrice_flag  \n",
       "4995                     8787.220535                         1  \n",
       "4996                     8043.000000                         0  \n",
       "4997                     7201.755069                         1  \n",
       "4998                     7080.000000                         0  \n",
       "4999                     4246.000000                         0  "
      ]
     },
     "execution_count": 13,
     "metadata": {},
     "output_type": "execute_result"
    }
   ],
   "source": [
    "dataset[['MMRAcquisitionAuctionAveragePrice', 'ImputedAveragePrice', \n",
    "         'ImputedAveragePrice_regression', 'ImputedAveragePrice_flag']].tail()"
   ]
  },
  {
   "cell_type": "markdown",
   "id": "4048deb3",
   "metadata": {},
   "source": [
    "## Imputation for categorical variables"
   ]
  },
  {
   "cell_type": "markdown",
   "id": "1784d5ce",
   "metadata": {},
   "source": [
    "### Imputation with the mode\n",
    "\n",
    "A common approach to dealing with missing categorical values is to replace with the mode:"
   ]
  },
  {
   "cell_type": "code",
   "execution_count": 14,
   "id": "caf3f13c",
   "metadata": {},
   "outputs": [
    {
     "name": "stdout",
     "output_type": "stream",
     "text": [
      "Mode:  Alloy\n"
     ]
    },
    {
     "data": {
      "text/html": [
       "<div>\n",
       "<style scoped>\n",
       "    .dataframe tbody tr th:only-of-type {\n",
       "        vertical-align: middle;\n",
       "    }\n",
       "\n",
       "    .dataframe tbody tr th {\n",
       "        vertical-align: top;\n",
       "    }\n",
       "\n",
       "    .dataframe thead th {\n",
       "        text-align: right;\n",
       "    }\n",
       "</style>\n",
       "<table border=\"1\" class=\"dataframe\">\n",
       "  <thead>\n",
       "    <tr style=\"text-align: right;\">\n",
       "      <th></th>\n",
       "      <th>WheelType</th>\n",
       "      <th>Imputed_WheelType</th>\n",
       "    </tr>\n",
       "  </thead>\n",
       "  <tbody>\n",
       "    <tr>\n",
       "      <th>0</th>\n",
       "      <td>Covers</td>\n",
       "      <td>Covers</td>\n",
       "    </tr>\n",
       "    <tr>\n",
       "      <th>1</th>\n",
       "      <td>Alloy</td>\n",
       "      <td>Alloy</td>\n",
       "    </tr>\n",
       "    <tr>\n",
       "      <th>2</th>\n",
       "      <td>Alloy</td>\n",
       "      <td>Alloy</td>\n",
       "    </tr>\n",
       "    <tr>\n",
       "      <th>3</th>\n",
       "      <td>Covers</td>\n",
       "      <td>Covers</td>\n",
       "    </tr>\n",
       "    <tr>\n",
       "      <th>4</th>\n",
       "      <td>NaN</td>\n",
       "      <td>Alloy</td>\n",
       "    </tr>\n",
       "  </tbody>\n",
       "</table>\n",
       "</div>"
      ],
      "text/plain": [
       "  WheelType Imputed_WheelType\n",
       "0    Covers            Covers\n",
       "1     Alloy             Alloy\n",
       "2     Alloy             Alloy\n",
       "3    Covers            Covers\n",
       "4       NaN             Alloy"
      ]
     },
     "execution_count": 14,
     "metadata": {},
     "output_type": "execute_result"
    }
   ],
   "source": [
    "# First get the mode for the variable you want to impute\n",
    "wheeltype_mode = dataset['WheelType'].mode()[0]\n",
    "\n",
    "print(\"Mode: \", wheeltype_mode)\n",
    "\n",
    "dataset = dataset.assign(Imputed_WheelType = dataset['WheelType'].fillna(wheeltype_mode))\n",
    "\n",
    "dataset[['WheelType','Imputed_WheelType']].head()"
   ]
  },
  {
   "cell_type": "markdown",
   "id": "f0c99d5a",
   "metadata": {},
   "source": [
    "### Imputation with a specific value\n",
    "\n",
    "Another approach is to replace the missing values with a specified value:"
   ]
  },
  {
   "cell_type": "code",
   "execution_count": 15,
   "id": "aed259aa",
   "metadata": {
    "scrolled": false
   },
   "outputs": [
    {
     "data": {
      "text/html": [
       "<div>\n",
       "<style scoped>\n",
       "    .dataframe tbody tr th:only-of-type {\n",
       "        vertical-align: middle;\n",
       "    }\n",
       "\n",
       "    .dataframe tbody tr th {\n",
       "        vertical-align: top;\n",
       "    }\n",
       "\n",
       "    .dataframe thead th {\n",
       "        text-align: right;\n",
       "    }\n",
       "</style>\n",
       "<table border=\"1\" class=\"dataframe\">\n",
       "  <thead>\n",
       "    <tr style=\"text-align: right;\">\n",
       "      <th></th>\n",
       "      <th>WheelType</th>\n",
       "      <th>Imputed_WheelType</th>\n",
       "    </tr>\n",
       "  </thead>\n",
       "  <tbody>\n",
       "    <tr>\n",
       "      <th>0</th>\n",
       "      <td>Covers</td>\n",
       "      <td>Covers</td>\n",
       "    </tr>\n",
       "    <tr>\n",
       "      <th>1</th>\n",
       "      <td>Alloy</td>\n",
       "      <td>Alloy</td>\n",
       "    </tr>\n",
       "    <tr>\n",
       "      <th>2</th>\n",
       "      <td>Alloy</td>\n",
       "      <td>Alloy</td>\n",
       "    </tr>\n",
       "    <tr>\n",
       "      <th>3</th>\n",
       "      <td>Covers</td>\n",
       "      <td>Covers</td>\n",
       "    </tr>\n",
       "    <tr>\n",
       "      <th>4</th>\n",
       "      <td>NaN</td>\n",
       "      <td>WheelType Missing</td>\n",
       "    </tr>\n",
       "  </tbody>\n",
       "</table>\n",
       "</div>"
      ],
      "text/plain": [
       "  WheelType  Imputed_WheelType\n",
       "0    Covers             Covers\n",
       "1     Alloy              Alloy\n",
       "2     Alloy              Alloy\n",
       "3    Covers             Covers\n",
       "4       NaN  WheelType Missing"
      ]
     },
     "execution_count": 15,
     "metadata": {},
     "output_type": "execute_result"
    }
   ],
   "source": [
    "imputed_value = 'WheelType Missing'\n",
    "\n",
    "dataset = dataset.assign(Imputed_WheelType = dataset['WheelType'].fillna(value=imputed_value))\n",
    "dataset[['WheelType','Imputed_WheelType']].head()"
   ]
  },
  {
   "cell_type": "markdown",
   "id": "a5d9de24",
   "metadata": {},
   "source": [
    "### Imputation by backfill or forward fill\n",
    "\n",
    "Alternatively, you can backfill or forward fill the missing values:"
   ]
  },
  {
   "cell_type": "code",
   "execution_count": 16,
   "id": "5c5a3568",
   "metadata": {},
   "outputs": [
    {
     "data": {
      "text/html": [
       "<div>\n",
       "<style scoped>\n",
       "    .dataframe tbody tr th:only-of-type {\n",
       "        vertical-align: middle;\n",
       "    }\n",
       "\n",
       "    .dataframe tbody tr th {\n",
       "        vertical-align: top;\n",
       "    }\n",
       "\n",
       "    .dataframe thead th {\n",
       "        text-align: right;\n",
       "    }\n",
       "</style>\n",
       "<table border=\"1\" class=\"dataframe\">\n",
       "  <thead>\n",
       "    <tr style=\"text-align: right;\">\n",
       "      <th></th>\n",
       "      <th>WheelType</th>\n",
       "      <th>Imputed_WheelType</th>\n",
       "    </tr>\n",
       "  </thead>\n",
       "  <tbody>\n",
       "    <tr>\n",
       "      <th>0</th>\n",
       "      <td>Covers</td>\n",
       "      <td>Covers</td>\n",
       "    </tr>\n",
       "    <tr>\n",
       "      <th>1</th>\n",
       "      <td>Alloy</td>\n",
       "      <td>Alloy</td>\n",
       "    </tr>\n",
       "    <tr>\n",
       "      <th>2</th>\n",
       "      <td>Alloy</td>\n",
       "      <td>Alloy</td>\n",
       "    </tr>\n",
       "    <tr>\n",
       "      <th>3</th>\n",
       "      <td>Covers</td>\n",
       "      <td>Covers</td>\n",
       "    </tr>\n",
       "    <tr>\n",
       "      <th>4</th>\n",
       "      <td>NaN</td>\n",
       "      <td>Covers</td>\n",
       "    </tr>\n",
       "  </tbody>\n",
       "</table>\n",
       "</div>"
      ],
      "text/plain": [
       "  WheelType Imputed_WheelType\n",
       "0    Covers            Covers\n",
       "1     Alloy             Alloy\n",
       "2     Alloy             Alloy\n",
       "3    Covers            Covers\n",
       "4       NaN            Covers"
      ]
     },
     "execution_count": 16,
     "metadata": {},
     "output_type": "execute_result"
    }
   ],
   "source": [
    "dataset = dataset.assign(Imputed_WheelType = dataset['WheelType'].fillna(method='ffill'))\n",
    "dataset[['WheelType','Imputed_WheelType']].head()"
   ]
  },
  {
   "cell_type": "markdown",
   "id": "a960653e",
   "metadata": {},
   "source": [
    "### Imputation by grouping"
   ]
  },
  {
   "cell_type": "markdown",
   "id": "68fe18dd",
   "metadata": {},
   "source": [
    "# Standardizing capitalization "
   ]
  },
  {
   "cell_type": "markdown",
   "id": "e4debd14",
   "metadata": {},
   "source": [
    "In Pandas you can use the <code>str.upper</code> or <code>str.lower</code> methods to convert"
   ]
  },
  {
   "cell_type": "code",
   "execution_count": 17,
   "id": "0738a630",
   "metadata": {},
   "outputs": [
    {
     "data": {
      "text/html": [
       "<div>\n",
       "<style scoped>\n",
       "    .dataframe tbody tr th:only-of-type {\n",
       "        vertical-align: middle;\n",
       "    }\n",
       "\n",
       "    .dataframe tbody tr th {\n",
       "        vertical-align: top;\n",
       "    }\n",
       "\n",
       "    .dataframe thead th {\n",
       "        text-align: right;\n",
       "    }\n",
       "</style>\n",
       "<table border=\"1\" class=\"dataframe\">\n",
       "  <thead>\n",
       "    <tr style=\"text-align: right;\">\n",
       "      <th></th>\n",
       "      <th>Imputed_WheelType</th>\n",
       "      <th>WheelType_Lower</th>\n",
       "      <th>WheelType_Upper</th>\n",
       "    </tr>\n",
       "  </thead>\n",
       "  <tbody>\n",
       "    <tr>\n",
       "      <th>0</th>\n",
       "      <td>Covers</td>\n",
       "      <td>covers</td>\n",
       "      <td>COVERS</td>\n",
       "    </tr>\n",
       "    <tr>\n",
       "      <th>1</th>\n",
       "      <td>Alloy</td>\n",
       "      <td>alloy</td>\n",
       "      <td>ALLOY</td>\n",
       "    </tr>\n",
       "    <tr>\n",
       "      <th>2</th>\n",
       "      <td>Alloy</td>\n",
       "      <td>alloy</td>\n",
       "      <td>ALLOY</td>\n",
       "    </tr>\n",
       "    <tr>\n",
       "      <th>3</th>\n",
       "      <td>Covers</td>\n",
       "      <td>covers</td>\n",
       "      <td>COVERS</td>\n",
       "    </tr>\n",
       "    <tr>\n",
       "      <th>4</th>\n",
       "      <td>Covers</td>\n",
       "      <td>covers</td>\n",
       "      <td>COVERS</td>\n",
       "    </tr>\n",
       "    <tr>\n",
       "      <th>...</th>\n",
       "      <td>...</td>\n",
       "      <td>...</td>\n",
       "      <td>...</td>\n",
       "    </tr>\n",
       "    <tr>\n",
       "      <th>4995</th>\n",
       "      <td>Alloy</td>\n",
       "      <td>alloy</td>\n",
       "      <td>ALLOY</td>\n",
       "    </tr>\n",
       "    <tr>\n",
       "      <th>4996</th>\n",
       "      <td>Alloy</td>\n",
       "      <td>alloy</td>\n",
       "      <td>ALLOY</td>\n",
       "    </tr>\n",
       "    <tr>\n",
       "      <th>4997</th>\n",
       "      <td>Alloy</td>\n",
       "      <td>alloy</td>\n",
       "      <td>ALLOY</td>\n",
       "    </tr>\n",
       "    <tr>\n",
       "      <th>4998</th>\n",
       "      <td>Covers</td>\n",
       "      <td>covers</td>\n",
       "      <td>COVERS</td>\n",
       "    </tr>\n",
       "    <tr>\n",
       "      <th>4999</th>\n",
       "      <td>Alloy</td>\n",
       "      <td>alloy</td>\n",
       "      <td>ALLOY</td>\n",
       "    </tr>\n",
       "  </tbody>\n",
       "</table>\n",
       "<p>5000 rows × 3 columns</p>\n",
       "</div>"
      ],
      "text/plain": [
       "     Imputed_WheelType WheelType_Lower WheelType_Upper\n",
       "0               Covers          covers          COVERS\n",
       "1                Alloy           alloy           ALLOY\n",
       "2                Alloy           alloy           ALLOY\n",
       "3               Covers          covers          COVERS\n",
       "4               Covers          covers          COVERS\n",
       "...                ...             ...             ...\n",
       "4995             Alloy           alloy           ALLOY\n",
       "4996             Alloy           alloy           ALLOY\n",
       "4997             Alloy           alloy           ALLOY\n",
       "4998            Covers          covers          COVERS\n",
       "4999             Alloy           alloy           ALLOY\n",
       "\n",
       "[5000 rows x 3 columns]"
      ]
     },
     "execution_count": 17,
     "metadata": {},
     "output_type": "execute_result"
    }
   ],
   "source": [
    "dataset['WheelType_Upper'] = dataset['Imputed_WheelType'].str.upper()\n",
    "dataset['WheelType_Lower'] = dataset['Imputed_WheelType'].str.lower()\n",
    "dataset[['Imputed_WheelType', 'WheelType_Lower', 'WheelType_Upper']]"
   ]
  },
  {
   "cell_type": "markdown",
   "id": "79ca639b",
   "metadata": {},
   "source": [
    "[Table of contents](#Data-cleaning-transformations)"
   ]
  }
 ],
 "metadata": {
  "kernelspec": {
   "display_name": "Python 3",
   "language": "python",
   "name": "python3"
  },
  "language_info": {
   "codemirror_mode": {
    "name": "ipython",
    "version": 3
   },
   "file_extension": ".py",
   "mimetype": "text/x-python",
   "name": "python",
   "nbconvert_exporter": "python",
   "pygments_lexer": "ipython3",
   "version": "3.9.5"
  },
  "toc": {
   "base_numbering": 1,
   "nav_menu": {},
   "number_sections": true,
   "sideBar": true,
   "skip_h1_title": false,
   "title_cell": "Table of Contents",
   "title_sidebar": "Contents",
   "toc_cell": false,
   "toc_position": {
    "height": "calc(100% - 180px)",
    "left": "10px",
    "top": "150px",
    "width": "355px"
   },
   "toc_section_display": true,
   "toc_window_display": true
  }
 },
 "nbformat": 4,
 "nbformat_minor": 5
}
