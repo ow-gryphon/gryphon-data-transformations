{
 "cells": [
  {
   "cell_type": "markdown",
   "id": "6d9c078d",
   "metadata": {},
   "source": [
    "<div class=\"alert alert-danger\" role=\"alert\">\n",
    "    <span style=\"font-size:20px\">&#9888;</span> <span style=\"font-size:16px\">This is a read-only notebook! If you want to make and save changes, save a copy by clicking on <b>File</b> &#8594; <b>Save a copy</b>. If this is already a copy, you can delete this cell.</span>\n",
    "</div>"
   ]
  },
  {
   "cell_type": "markdown",
   "id": "d738f5e4",
   "metadata": {},
   "source": [
    "# Datatype transformations\n",
    "\n",
    "This notebook provides methods to ensure all the variables your dataset are represented by the correct datatype.\n",
    "\n",
    "<a id=\"table-of-contents\"></a>\n",
    "**Table of contents**\n",
    "\n",
    "<ul class=\"toc-item\"><li><span><a href=\"#Datatype-transformations\" data-toc-modified-id=\"Datatype-transformations-1\"><span class=\"toc-item-num\">1&nbsp;&nbsp;</span>Datatype transformations</a></span></li><li><span><a href=\"#Quick-dataset-overview\" data-toc-modified-id=\"Quick-dataset-overview-2\"><span class=\"toc-item-num\">2&nbsp;&nbsp;</span>Quick dataset overview</a></span></li><li><span><a href=\"#Converting-dataframe-columns-to-a-different-datatype\" data-toc-modified-id=\"Converting-dataframe-columns-to-a-different-datatype-3\"><span class=\"toc-item-num\">3&nbsp;&nbsp;</span>Converting dataframe columns to a different datatype</a></span><ul class=\"toc-item\"><li><span><a href=\"#Converting-to-a-numeric-datatype\" data-toc-modified-id=\"Converting-to-a-numeric-datatype-3.1\"><span class=\"toc-item-num\">3.1&nbsp;&nbsp;</span>Converting to a numeric datatype</a></span></li><li><span><a href=\"#Datetime-conversions\" data-toc-modified-id=\"Datetime-conversions-3.2\"><span class=\"toc-item-num\">3.2&nbsp;&nbsp;</span>Datetime conversions</a></span><ul class=\"toc-item\"><li><span><a href=\"#Converting-integers-to-dates\" data-toc-modified-id=\"Converting-integers-to-dates-3.2.1\"><span class=\"toc-item-num\">3.2.1&nbsp;&nbsp;</span>Converting integers to dates</a></span></li><li><span><a href=\"#Extract-date-values-from-complex-strings\" data-toc-modified-id=\"Extract-date-values-from-complex-strings-3.2.2\"><span class=\"toc-item-num\">3.2.2&nbsp;&nbsp;</span>Extract date values from complex strings</a></span></li><li><span><a href=\"#Extract-date-value-from-an-Excel-date-read-in-as-number\" data-toc-modified-id=\"Extract-date-value-from-an-Excel-date-read-in-as-number-3.2.3\"><span class=\"toc-item-num\">3.2.3&nbsp;&nbsp;</span>Extract date value from an Excel date read in as number</a></span></li><li><span><a href=\"#Converting-arrays,-lists,-or-pandas-Series\" data-toc-modified-id=\"Converting-arrays,-lists,-or-pandas-Series-3.2.4\"><span class=\"toc-item-num\">3.2.4&nbsp;&nbsp;</span>Converting arrays, lists, or pandas Series</a></span></li><li><span><a href=\"#Using-multiple-columns-in-a-pandas-DataFrame-to-construct-the-date\" data-toc-modified-id=\"Using-multiple-columns-in-a-pandas-DataFrame-to-construct-the-date-3.2.5\"><span class=\"toc-item-num\">3.2.5&nbsp;&nbsp;</span>Using multiple columns in a pandas DataFrame to construct the date</a></span></li></ul></li><li><span><a href=\"#Date-related-calculations\" data-toc-modified-id=\"Date-related-calculations-3.3\"><span class=\"toc-item-num\">3.3&nbsp;&nbsp;</span>Date-related calculations</a></span></li><li><span><a href=\"#Date-aggregation-/-splitting\" data-toc-modified-id=\"Date-aggregation-/-splitting-3.4\"><span class=\"toc-item-num\">3.4&nbsp;&nbsp;</span>Date aggregation / splitting</a></span><ul class=\"toc-item\"><li><span><a href=\"#Split-to-less-granular-dates\" data-toc-modified-id=\"Split-to-less-granular-dates-3.4.1\"><span class=\"toc-item-num\">3.4.1&nbsp;&nbsp;</span>Split to less granular dates</a></span></li><li><span><a href=\"#Aggregate-to-more-granular-dates\" data-toc-modified-id=\"Aggregate-to-more-granular-dates-3.4.2\"><span class=\"toc-item-num\">3.4.2&nbsp;&nbsp;</span>Aggregate to more granular dates</a></span></li></ul></li></ul></li></ul>\n",
    "\n",
    "This notebook primarily uses capabilities from numpy and pandas. \n",
    "\n",
    "**We begin by importing key libraries**"
   ]
  },
  {
   "cell_type": "code",
   "execution_count": 1,
   "id": "019fc21f",
   "metadata": {},
   "outputs": [],
   "source": [
    "# Import key libraries\n",
    "import pandas as pd\n",
    "import numpy as np\n",
    "import matplotlib.pyplot as plt\n",
    "import dateutil.parser as dparser\n",
    "from datetime import datetime"
   ]
  },
  {
   "cell_type": "markdown",
   "id": "6264447b",
   "metadata": {},
   "source": [
    "**Optional import of OW color scheme**"
   ]
  },
  {
   "cell_type": "code",
   "execution_count": 2,
   "id": "889fa9fe",
   "metadata": {},
   "outputs": [],
   "source": [
    "# Load in OW color scheme and plot style\n",
    "plt.style.use('../../utilities/resources/ow_style.mplstyle')\n",
    "\n",
    "# Add path of the folder 'utilities' to the path from which we can import modules  \n",
    "import sys\n",
    "sys.path.append('../../utilities')\n",
    "from resources.ow_colormap import ow_colormap "
   ]
  },
  {
   "cell_type": "markdown",
   "id": "acb87d33",
   "metadata": {},
   "source": [
    "**Load in data from CSV**\n",
    "\n",
    "We read in the data from a CSV containing data about used car auction sales"
   ]
  },
  {
   "cell_type": "code",
   "execution_count": 3,
   "id": "1a6fb285",
   "metadata": {},
   "outputs": [],
   "source": [
    "dataset = pd.read_csv(\"sample_input/transformations_used_cars.csv\", low_memory=False)"
   ]
  },
  {
   "cell_type": "markdown",
   "id": "fde409e0",
   "metadata": {},
   "source": [
    "<a id=\"dataset_overview\"></a>\n",
    "# Quick dataset overview\n",
    "\n",
    "We use the following pandas methods to obtain basic information about the contents of the data:\n",
    "* .info(): Column names, number of non-nulls, and column data type\n",
    "* .head(): See top rows of each data field\n",
    "* .describe(): Basic stats for each variable, which we then augment with number of missing or blank values\n",
    "\n",
    "Following this we use a custom function for additional information from numerical and categorical variables respectively."
   ]
  },
  {
   "cell_type": "code",
   "execution_count": 4,
   "id": "b6984f74",
   "metadata": {},
   "outputs": [
    {
     "data": {
      "text/html": [
       "<div>\n",
       "<style scoped>\n",
       "    .dataframe tbody tr th:only-of-type {\n",
       "        vertical-align: middle;\n",
       "    }\n",
       "\n",
       "    .dataframe tbody tr th {\n",
       "        vertical-align: top;\n",
       "    }\n",
       "\n",
       "    .dataframe thead th {\n",
       "        text-align: right;\n",
       "    }\n",
       "</style>\n",
       "<table border=\"1\" class=\"dataframe\">\n",
       "  <thead>\n",
       "    <tr style=\"text-align: right;\">\n",
       "      <th></th>\n",
       "      <th>IsBadBuy</th>\n",
       "      <th>PurchDate</th>\n",
       "      <th>Auction</th>\n",
       "      <th>VehYear</th>\n",
       "      <th>VehicleAge</th>\n",
       "      <th>Make</th>\n",
       "      <th>Model</th>\n",
       "      <th>Trim</th>\n",
       "      <th>SubModel</th>\n",
       "      <th>Color</th>\n",
       "      <th>Transmission</th>\n",
       "      <th>WheelTypeID</th>\n",
       "      <th>WheelType</th>\n",
       "      <th>VehOdo</th>\n",
       "      <th>Nationality</th>\n",
       "      <th>Size</th>\n",
       "      <th>MMRAcquisitionAuctionAveragePrice</th>\n",
       "      <th>VehBCost</th>\n",
       "      <th>WarrantyCost</th>\n",
       "    </tr>\n",
       "  </thead>\n",
       "  <tbody>\n",
       "    <tr>\n",
       "      <th>0</th>\n",
       "      <td>0</td>\n",
       "      <td>6/17/2009</td>\n",
       "      <td>MANHEIM</td>\n",
       "      <td>2001</td>\n",
       "      <td>8.0</td>\n",
       "      <td>NISSAN</td>\n",
       "      <td>ALTIMA 2.4L I4 EFI</td>\n",
       "      <td>GXE</td>\n",
       "      <td>4D SEDAN GXE</td>\n",
       "      <td>WHITE</td>\n",
       "      <td>AUTO</td>\n",
       "      <td>2.0</td>\n",
       "      <td>Covers</td>\n",
       "      <td>80702.0</td>\n",
       "      <td>TOP LINE ASIAN</td>\n",
       "      <td>MEDIUM</td>\n",
       "      <td>2942.0</td>\n",
       "      <td>4160.0</td>\n",
       "      <td>1023</td>\n",
       "    </tr>\n",
       "    <tr>\n",
       "      <th>1</th>\n",
       "      <td>0</td>\n",
       "      <td>10/5/2010</td>\n",
       "      <td>OTHER</td>\n",
       "      <td>2008</td>\n",
       "      <td>Five</td>\n",
       "      <td>FORD</td>\n",
       "      <td>TAURUS</td>\n",
       "      <td>SEL</td>\n",
       "      <td>4D SEDAN SEL</td>\n",
       "      <td>SILVER</td>\n",
       "      <td>AUTO</td>\n",
       "      <td>1.0</td>\n",
       "      <td>Alloy</td>\n",
       "      <td>88245.0</td>\n",
       "      <td>AMERICAN</td>\n",
       "      <td>MEDIUM</td>\n",
       "      <td>9817.0</td>\n",
       "      <td>7850.0</td>\n",
       "      <td>1633</td>\n",
       "    </tr>\n",
       "  </tbody>\n",
       "</table>\n",
       "</div>"
      ],
      "text/plain": [
       "   IsBadBuy  PurchDate  Auction  VehYear VehicleAge    Make  \\\n",
       "0         0  6/17/2009  MANHEIM     2001        8.0  NISSAN   \n",
       "1         0  10/5/2010    OTHER     2008       Five    FORD   \n",
       "\n",
       "                Model Trim      SubModel   Color Transmission  WheelTypeID  \\\n",
       "0  ALTIMA 2.4L I4 EFI  GXE  4D SEDAN GXE   WHITE         AUTO          2.0   \n",
       "1              TAURUS  SEL  4D SEDAN SEL  SILVER         AUTO          1.0   \n",
       "\n",
       "  WheelType   VehOdo     Nationality    Size  \\\n",
       "0    Covers  80702.0  TOP LINE ASIAN  MEDIUM   \n",
       "1     Alloy  88245.0        AMERICAN  MEDIUM   \n",
       "\n",
       "   MMRAcquisitionAuctionAveragePrice  VehBCost  WarrantyCost  \n",
       "0                             2942.0    4160.0          1023  \n",
       "1                             9817.0    7850.0          1633  "
      ]
     },
     "execution_count": 4,
     "metadata": {},
     "output_type": "execute_result"
    }
   ],
   "source": [
    "dataset.head(2)"
   ]
  },
  {
   "cell_type": "code",
   "execution_count": 5,
   "id": "7c94940a",
   "metadata": {
    "scrolled": false
   },
   "outputs": [
    {
     "name": "stdout",
     "output_type": "stream",
     "text": [
      "<class 'pandas.core.frame.DataFrame'>\n",
      "RangeIndex: 5000 entries, 0 to 4999\n",
      "Data columns (total 19 columns):\n",
      " #   Column                             Non-Null Count  Dtype  \n",
      "---  ------                             --------------  -----  \n",
      " 0   IsBadBuy                           5000 non-null   int64  \n",
      " 1   PurchDate                          5000 non-null   object \n",
      " 2   Auction                            5000 non-null   object \n",
      " 3   VehYear                            5000 non-null   int64  \n",
      " 4   VehicleAge                         4783 non-null   object \n",
      " 5   Make                               5000 non-null   object \n",
      " 6   Model                              5000 non-null   object \n",
      " 7   Trim                               4846 non-null   object \n",
      " 8   SubModel                           5000 non-null   object \n",
      " 9   Color                              5000 non-null   object \n",
      " 10  Transmission                       5000 non-null   object \n",
      " 11  WheelTypeID                        3603 non-null   float64\n",
      " 12  WheelType                          3603 non-null   object \n",
      " 13  VehOdo                             4670 non-null   float64\n",
      " 14  Nationality                        4999 non-null   object \n",
      " 15  Size                               4999 non-null   object \n",
      " 16  MMRAcquisitionAuctionAveragePrice  4979 non-null   float64\n",
      " 17  VehBCost                           5000 non-null   float64\n",
      " 18  WarrantyCost                       5000 non-null   int64  \n",
      "dtypes: float64(4), int64(3), object(12)\n",
      "memory usage: 742.3+ KB\n"
     ]
    }
   ],
   "source": [
    "dataset.info()"
   ]
  },
  {
   "cell_type": "markdown",
   "id": "c43f59f1",
   "metadata": {},
   "source": [
    "<a id=\"detailed_dataset_overview\"></a>\n",
    "# Converting dataframe columns to a different datatype \n",
    "\n",
    "The seven common datatypes encountered when using Pandas are:\n",
    "\n",
    "| Datatype  |  Usage                                        |\n",
    "|:----------|:---------------------------------------------:|\n",
    "| object    |  Text or mixed numeric and non-numeric values | \n",
    "| float     |  Floating point numbers                       |   \n",
    "| int       |  Integer numbers                              | \n",
    "| bool      |  True/False values                            | \n",
    "| datetime  |  Date and time values                         |   \n",
    "| timedelta |  Difference between two datetime values       |\n",
    "| category  |  Finite list of text values                   |\n",
    "\n",
    "Pandas does not always infer the appropriate datatype, if there are inconsistent types in a single column. There are a few functions which allows us to convert a column to a different datatype, demonstrated below."
   ]
  },
  {
   "cell_type": "markdown",
   "id": "f18c320a",
   "metadata": {},
   "source": [
    "-------------------------------------------------------------------------------------------------------------------------------\n",
    "## Converting to a numeric datatype\n",
    "\n",
    "**pd.to_numeric will attempt to convert a column to an integer or float type**\n",
    "\n",
    "It will raise an error if any of the values cannot be converted to a numeric type. You can instead pass the `errors='coerce'`, which will convert any non-numeric values to NaN:"
   ]
  },
  {
   "cell_type": "code",
   "execution_count": 6,
   "id": "51e799d0",
   "metadata": {},
   "outputs": [
    {
     "data": {
      "text/plain": [
       "0       8.0\n",
       "1       NaN\n",
       "2       8.0\n",
       "3       4.0\n",
       "4       4.0\n",
       "       ... \n",
       "4995    6.0\n",
       "4996    NaN\n",
       "4997    4.0\n",
       "4998    3.0\n",
       "4999    7.0\n",
       "Name: VehicleAge, Length: 5000, dtype: float64"
      ]
     },
     "execution_count": 6,
     "metadata": {},
     "output_type": "execute_result"
    }
   ],
   "source": [
    "dataset['VehicleAge'] = pd.to_numeric(dataset['VehicleAge'], errors='coerce')\n",
    "dataset['VehicleAge']"
   ]
  },
  {
   "cell_type": "markdown",
   "id": "604b4de5",
   "metadata": {},
   "source": [
    "**Using the `downcast` option allows you to choose whether the data will be cast as integer or float. Additionally, it will automatically use the smallest integer/float possible to save memory**"
   ]
  },
  {
   "cell_type": "code",
   "execution_count": 7,
   "id": "4f2598d3",
   "metadata": {},
   "outputs": [
    {
     "data": {
      "text/plain": [
       "0       8.0\n",
       "1       NaN\n",
       "2       8.0\n",
       "3       4.0\n",
       "4       4.0\n",
       "       ... \n",
       "4995    6.0\n",
       "4996    NaN\n",
       "4997    4.0\n",
       "4998    3.0\n",
       "4999    7.0\n",
       "Name: VehicleAge, Length: 5000, dtype: float32"
      ]
     },
     "execution_count": 7,
     "metadata": {},
     "output_type": "execute_result"
    }
   ],
   "source": [
    "dataset['VehicleAge'] = pd.to_numeric(dataset['VehicleAge'], errors='coerce', downcast='float')\n",
    "dataset['VehicleAge']"
   ]
  },
  {
   "cell_type": "markdown",
   "id": "d7353fc0",
   "metadata": {},
   "source": [
    "-------------------------------------------------------------------------------------------------------------------------------\n",
    "**The .astype() method allows you to convert a column to any recognised Pandas datatype**"
   ]
  },
  {
   "cell_type": "code",
   "execution_count": 8,
   "id": "b6ba3fc9",
   "metadata": {},
   "outputs": [
    {
     "data": {
      "text/plain": [
       "CategoricalDtype(categories=['Alloy', 'Covers', 'Special'], ordered=False)"
      ]
     },
     "execution_count": 8,
     "metadata": {},
     "output_type": "execute_result"
    }
   ],
   "source": [
    "dataset['WheelType'] = dataset['WheelType'].astype('category')\n",
    "dataset['WheelType'].dtype"
   ]
  },
  {
   "cell_type": "markdown",
   "id": "8576be55",
   "metadata": {},
   "source": [
    "You can pass a dictionary argument to convert multiple columns at once:"
   ]
  },
  {
   "cell_type": "code",
   "execution_count": 9,
   "id": "e80190f4",
   "metadata": {},
   "outputs": [
    {
     "data": {
      "text/plain": [
       "Auction         category\n",
       "WarrantyCost     float32\n",
       "dtype: object"
      ]
     },
     "execution_count": 9,
     "metadata": {},
     "output_type": "execute_result"
    }
   ],
   "source": [
    "dataset = dataset.astype({'Auction': 'category', 'WarrantyCost': 'float32'})\n",
    "dataset[['Auction', 'WarrantyCost']].dtypes"
   ]
  },
  {
   "cell_type": "markdown",
   "id": "6d7a6f15",
   "metadata": {},
   "source": [
    "**As with `to_numeric`, the conversion will fail if the column contains values that cannot be converted** "
   ]
  },
  {
   "cell_type": "code",
   "execution_count": 10,
   "id": "6482375c",
   "metadata": {},
   "outputs": [],
   "source": [
    "import sys\n",
    "sys.path.append('../../utilities')\n",
    "from data_exploration import dataset_overview"
   ]
  },
  {
   "cell_type": "markdown",
   "id": "07700ee3",
   "metadata": {},
   "source": [
    "<a id=\"numerical_variable_check\"></a>\n",
    "## Datetime conversions\n",
    "\n",
    "The pandas `to_datetime` functionality is good at identifying the type of string passed through and converting into datetime using a variety of format recognition patterns:"
   ]
  },
  {
   "cell_type": "code",
   "execution_count": 11,
   "id": "92a63f1e",
   "metadata": {},
   "outputs": [
    {
     "name": "stdout",
     "output_type": "stream",
     "text": [
      "2022-12-31 00:00:00\n",
      "2022-12-31 00:00:00\n",
      "2022-12-31 00:00:00\n",
      "2022-12-31 00:00:00\n",
      "2022-12-31 00:00:00\n"
     ]
    }
   ],
   "source": [
    "numeric_string_date = pd.to_datetime('20221231')\n",
    "typed_out_date = pd.to_datetime('December 31 2022')\n",
    "with_dashes_date = pd.to_datetime('12-31-2022')\n",
    "with_slashes_date = pd.to_datetime('12/31/2022')\n",
    "abbreviated_date = pd.to_datetime('Dec 31 2022')\n",
    "\n",
    "print(numeric_string_date, typed_out_date, with_dashes_date, \n",
    "      with_slashes_date, abbreviated_date, sep='\\n')"
   ]
  },
  {
   "cell_type": "markdown",
   "id": "f31c4440",
   "metadata": {},
   "source": [
    "When you know the expected type of format, it is still preferred to explicitly state the format. It will warn you when the format doesn’t match, and is faster:"
   ]
  },
  {
   "cell_type": "code",
   "execution_count": 12,
   "id": "ecaadfea",
   "metadata": {},
   "outputs": [
    {
     "data": {
      "text/plain": [
       "Timestamp('2022-12-31 00:00:00')"
      ]
     },
     "execution_count": 12,
     "metadata": {},
     "output_type": "execute_result"
    }
   ],
   "source": [
    "pd.to_datetime('12/31/2022', format = '%m/%d/%Y')"
   ]
  },
  {
   "cell_type": "markdown",
   "id": "312e9bd3",
   "metadata": {},
   "source": [
    "A good cheatsheet can be found here: https://docs.python.org/3/library/datetime.html#strftime-and-strptime-behavior."
   ]
  },
  {
   "cell_type": "markdown",
   "id": "a5aa5315",
   "metadata": {},
   "source": [
    "<a id=\"numerical_variable_correlations\"></a>\n",
    "### Converting integers to dates\n",
    "\n",
    "To convert an integer to a date, specify the format in which the date integer is provided in."
   ]
  },
  {
   "cell_type": "code",
   "execution_count": 13,
   "id": "b12c0a91",
   "metadata": {},
   "outputs": [
    {
     "name": "stdout",
     "output_type": "stream",
     "text": [
      "2022-12-31 00:00:00\n",
      "2022-12-31 00:00:00\n",
      "2022-12-31 00:00:00\n"
     ]
    }
   ],
   "source": [
    "# Integer typed out\n",
    "integer1 = 20221231\n",
    "integer2 = 12312022\n",
    "integer3 = 31122022\n",
    "\n",
    "numeric_date1 = pd.to_datetime(integer1, format='%Y%m%d')\n",
    "numeric_date2 = pd.to_datetime(integer2, format='%m%d%Y')\n",
    "numeric_date3 = pd.to_datetime(integer3, format='%d%m%Y')\n",
    "\n",
    "print(numeric_date1, numeric_date2, numeric_date3, sep='\\n')"
   ]
  },
  {
   "cell_type": "markdown",
   "id": "190806be",
   "metadata": {},
   "source": [
    "<a id=\"non_numerical_variable_check\"></a>\n",
    "### Extract date values from complex strings\n",
    "\n",
    "Using the dateutil parsing function, you can find string patterns that are dates from a larger string, though you want to be careful in doing this since it can find unrelated numbers and think it is a date"
   ]
  },
  {
   "cell_type": "code",
   "execution_count": 14,
   "id": "6089a2d2",
   "metadata": {},
   "outputs": [
    {
     "name": "stdout",
     "output_type": "stream",
     "text": [
      "2022-12-31 00:00:00\n",
      "2022-12-31 00:00:00\n",
      "2022-12-31 00:00:00\n",
      "2022-12-31 00:00:00\n"
     ]
    }
   ],
   "source": [
    "string1 = dparser.parse(\"oliver december 31 digital 2022 wyman\", fuzzy=True)\n",
    "string2 = dparser.parse(\"oliver 12 31 digital 2022 wyman\", fuzzy=True)\n",
    "string3 = dparser.parse(\"2022-12-31\", fuzzy=True)\n",
    "string4 = dparser.parse(\"ow 31 wyman oliver 12 digital 2022\", fuzzy=True)\n",
    "\n",
    "print(string1, string2, string3, string4, sep='\\n')"
   ]
  },
  {
   "cell_type": "markdown",
   "id": "16f86f2a",
   "metadata": {},
   "source": [
    "In most cases you will be better off identifying a pattern in your strings, and use substrings to piece together the date"
   ]
  },
  {
   "cell_type": "code",
   "execution_count": 15,
   "id": "2cc3e81e",
   "metadata": {},
   "outputs": [
    {
     "name": "stdout",
     "output_type": "stream",
     "text": [
      "2019-06-03 00:00:00\n",
      "1990-05-31 00:00:00\n",
      "2001-12-05 00:00:00\n"
     ]
    }
   ],
   "source": [
    "string1 = \"Year 2019, on June 3rd\"\n",
    "string2 = \"Year 1990, on May 31st\"\n",
    "string3 = \"Year 2001, on December 5th\"\n",
    "print(pd.to_datetime(string1[5:9] + \" \" + string1[14:-2], format=\"%Y %B %d\"))\n",
    "print(pd.to_datetime(string2[5:9] + \" \" + string2[14:-2], format=\"%Y %B %d\"))\n",
    "print(pd.to_datetime(string3[5:9] + \" \" + string3[14:-2], format=\"%Y %B %d\"))"
   ]
  },
  {
   "cell_type": "markdown",
   "id": "7675e43a",
   "metadata": {},
   "source": [
    "### Extract date value from an Excel date read in as number\n",
    "\n",
    "See the answer at https://stackoverflow.com/questions/31359150/convert-date-from-excel-in-number-format-to-date-format-python/31359287 for more information. Here is a simple example."
   ]
  },
  {
   "cell_type": "code",
   "execution_count": 16,
   "id": "9a43cbe4",
   "metadata": {},
   "outputs": [
    {
     "data": {
      "text/plain": [
       "Timestamp('2022-07-27 00:00:00')"
      ]
     },
     "execution_count": 16,
     "metadata": {},
     "output_type": "execute_result"
    }
   ],
   "source": [
    "# For integer dates after 1900/03/01:\n",
    "excel_date = 44769\n",
    "pd.to_datetime(datetime.fromordinal(datetime(1900, 1, 1).toordinal() + excel_date - 2))"
   ]
  },
  {
   "cell_type": "markdown",
   "id": "58dfce61",
   "metadata": {},
   "source": [
    "### Converting arrays, lists, or pandas Series\n",
    "\n",
    "A benefit of `pd.to_datetime` is that it works with all of these directly, so you don’t have to write loops / list comprehensions / pandas apply functions:"
   ]
  },
  {
   "cell_type": "code",
   "execution_count": 17,
   "id": "943bc9bd",
   "metadata": {},
   "outputs": [
    {
     "data": {
      "text/plain": [
       "DatetimeIndex(['2018-12-31', '2013-02-28', '2019-05-01', '2017-11-11'], dtype='datetime64[ns]', freq=None)"
      ]
     },
     "execution_count": 17,
     "metadata": {},
     "output_type": "execute_result"
    }
   ],
   "source": [
    "pd.to_datetime(np.array(['2018/12/31', '2013/02/28', '2019/05/01', '2017/11/11']), format=\"%Y/%m/%d\")"
   ]
  },
  {
   "cell_type": "code",
   "execution_count": 18,
   "id": "75b6c424",
   "metadata": {},
   "outputs": [
    {
     "data": {
      "text/plain": [
       "DatetimeIndex(['2018-12-31', '2013-02-28', '2019-05-01', '2017-11-11'], dtype='datetime64[ns]', freq=None)"
      ]
     },
     "execution_count": 18,
     "metadata": {},
     "output_type": "execute_result"
    }
   ],
   "source": [
    "pd.to_datetime(['2018/12/31', '2013/02/28', '2019/05/01', '2017/11/11'], format=\"%Y/%m/%d\")"
   ]
  },
  {
   "cell_type": "code",
   "execution_count": 19,
   "id": "7f1dc451",
   "metadata": {},
   "outputs": [
    {
     "data": {
      "text/html": [
       "<div>\n",
       "<style scoped>\n",
       "    .dataframe tbody tr th:only-of-type {\n",
       "        vertical-align: middle;\n",
       "    }\n",
       "\n",
       "    .dataframe tbody tr th {\n",
       "        vertical-align: top;\n",
       "    }\n",
       "\n",
       "    .dataframe thead th {\n",
       "        text-align: right;\n",
       "    }\n",
       "</style>\n",
       "<table border=\"1\" class=\"dataframe\">\n",
       "  <thead>\n",
       "    <tr style=\"text-align: right;\">\n",
       "      <th></th>\n",
       "      <th>DateString</th>\n",
       "      <th>Value</th>\n",
       "      <th>Date</th>\n",
       "    </tr>\n",
       "  </thead>\n",
       "  <tbody>\n",
       "    <tr>\n",
       "      <th>0</th>\n",
       "      <td>2018/12/31</td>\n",
       "      <td>1</td>\n",
       "      <td>2018-12-31</td>\n",
       "    </tr>\n",
       "    <tr>\n",
       "      <th>1</th>\n",
       "      <td>2013/02/28</td>\n",
       "      <td>2</td>\n",
       "      <td>2013-02-28</td>\n",
       "    </tr>\n",
       "    <tr>\n",
       "      <th>2</th>\n",
       "      <td>2019/05/01</td>\n",
       "      <td>3</td>\n",
       "      <td>2019-05-01</td>\n",
       "    </tr>\n",
       "    <tr>\n",
       "      <th>3</th>\n",
       "      <td>2017/11/11</td>\n",
       "      <td>4</td>\n",
       "      <td>2017-11-11</td>\n",
       "    </tr>\n",
       "  </tbody>\n",
       "</table>\n",
       "</div>"
      ],
      "text/plain": [
       "   DateString  Value       Date\n",
       "0  2018/12/31      1 2018-12-31\n",
       "1  2013/02/28      2 2013-02-28\n",
       "2  2019/05/01      3 2019-05-01\n",
       "3  2017/11/11      4 2017-11-11"
      ]
     },
     "metadata": {},
     "output_type": "display_data"
    },
    {
     "data": {
      "text/plain": [
       "DateString            object\n",
       "Value                  int64\n",
       "Date          datetime64[ns]\n",
       "dtype: object"
      ]
     },
     "execution_count": 19,
     "metadata": {},
     "output_type": "execute_result"
    }
   ],
   "source": [
    "df = pd.DataFrame({\"DateString\": ['2018/12/31', '2013/02/28', '2019/05/01', '2017/11/11'],\n",
    "                          \"Value\": [1,2,3,4]})\n",
    "\n",
    "df['Date'] = pd.to_datetime(df[\"DateString\"], format=\"%Y/%m/%d\")\n",
    "display(df)\n",
    "df.dtypes"
   ]
  },
  {
   "cell_type": "markdown",
   "id": "10bdf3c7",
   "metadata": {},
   "source": [
    "### Using multiple columns in a pandas DataFrame to construct the date\n",
    "\n",
    "The easiest approach is to use the `apply` function:"
   ]
  },
  {
   "cell_type": "code",
   "execution_count": 20,
   "id": "8f3d6131",
   "metadata": {},
   "outputs": [
    {
     "data": {
      "text/html": [
       "<div>\n",
       "<style scoped>\n",
       "    .dataframe tbody tr th:only-of-type {\n",
       "        vertical-align: middle;\n",
       "    }\n",
       "\n",
       "    .dataframe tbody tr th {\n",
       "        vertical-align: top;\n",
       "    }\n",
       "\n",
       "    .dataframe thead th {\n",
       "        text-align: right;\n",
       "    }\n",
       "</style>\n",
       "<table border=\"1\" class=\"dataframe\">\n",
       "  <thead>\n",
       "    <tr style=\"text-align: right;\">\n",
       "      <th></th>\n",
       "      <th>Year</th>\n",
       "      <th>Quarter</th>\n",
       "      <th>First_Month</th>\n",
       "      <th>Last_Month</th>\n",
       "    </tr>\n",
       "  </thead>\n",
       "  <tbody>\n",
       "    <tr>\n",
       "      <th>0</th>\n",
       "      <td>1990</td>\n",
       "      <td>2</td>\n",
       "      <td>1990-04-01</td>\n",
       "      <td>1990-06-01</td>\n",
       "    </tr>\n",
       "    <tr>\n",
       "      <th>1</th>\n",
       "      <td>2010</td>\n",
       "      <td>1</td>\n",
       "      <td>2010-01-01</td>\n",
       "      <td>2010-03-01</td>\n",
       "    </tr>\n",
       "    <tr>\n",
       "      <th>2</th>\n",
       "      <td>2011</td>\n",
       "      <td>3</td>\n",
       "      <td>2011-07-01</td>\n",
       "      <td>2011-09-01</td>\n",
       "    </tr>\n",
       "    <tr>\n",
       "      <th>3</th>\n",
       "      <td>2004</td>\n",
       "      <td>4</td>\n",
       "      <td>2004-10-01</td>\n",
       "      <td>2004-12-01</td>\n",
       "    </tr>\n",
       "  </tbody>\n",
       "</table>\n",
       "</div>"
      ],
      "text/plain": [
       "   Year  Quarter First_Month Last_Month\n",
       "0  1990        2  1990-04-01 1990-06-01\n",
       "1  2010        1  2010-01-01 2010-03-01\n",
       "2  2011        3  2011-07-01 2011-09-01\n",
       "3  2004        4  2004-10-01 2004-12-01"
      ]
     },
     "execution_count": 20,
     "metadata": {},
     "output_type": "execute_result"
    }
   ],
   "source": [
    "df = pd.DataFrame({\"Year\": [1990, 2010, 2011, 2004], \"Quarter\": [2,1,3,4]})\n",
    "\n",
    "df['First_Month'] = df.apply(lambda x: datetime(\n",
    "    year = x[\"Year\"], month = 3*(x[\"Quarter\"]-1) + 1, day = 1), axis=1)\n",
    "df['Last_Month'] = df.apply(lambda x: datetime(\n",
    "    year = x[\"Year\"], month = 3*x[\"Quarter\"], day = 1), axis=1)\n",
    "df"
   ]
  },
  {
   "cell_type": "markdown",
   "id": "aa17947c",
   "metadata": {},
   "source": [
    "## Date-related calculations"
   ]
  },
  {
   "cell_type": "markdown",
   "id": "7e34d24b",
   "metadata": {},
   "source": [
    "You can add and subtract two different dates easily (to get days, months, years, etc.):"
   ]
  },
  {
   "cell_type": "code",
   "execution_count": 21,
   "id": "c5ae3e2f",
   "metadata": {},
   "outputs": [
    {
     "name": "stdout",
     "output_type": "stream",
     "text": [
      "1456 days 00:00:00\n",
      "3.9864198882926294\n"
     ]
    }
   ],
   "source": [
    "from_date = pd.to_datetime('20180204')\n",
    "to_date = pd.to_datetime('20220130')\n",
    "\n",
    "print(to_date - from_date)\n",
    "print((to_date - from_date).days / 365.24)"
   ]
  },
  {
   "cell_type": "markdown",
   "id": "e3d0956a",
   "metadata": {},
   "source": [
    "You can also add and subtract periods to a date using Pandas' `Timedelta` datatype:"
   ]
  },
  {
   "cell_type": "code",
   "execution_count": 22,
   "id": "1a59e715",
   "metadata": {},
   "outputs": [
    {
     "name": "stdout",
     "output_type": "stream",
     "text": [
      "2019-02-04 00:00:00\n",
      "2018-01-07 00:00:00\n"
     ]
    }
   ],
   "source": [
    "print(from_date + pd.Timedelta(days=365))\n",
    "print(from_date - pd.Timedelta(weeks=4))"
   ]
  },
  {
   "cell_type": "markdown",
   "id": "4a99b06e",
   "metadata": {},
   "source": [
    "The `bdate_range` function allows you to count the number of non-weekend days in a given period. *Note - this does not take into account bank holidays.*"
   ]
  },
  {
   "cell_type": "code",
   "execution_count": 23,
   "id": "af6ad13f",
   "metadata": {},
   "outputs": [
    {
     "name": "stdout",
     "output_type": "stream",
     "text": [
      "Number of business days in 2022: 261\n"
     ]
    }
   ],
   "source": [
    "pd_datetime1 = pd.to_datetime('20211231')\n",
    "pd_datetime2 = pd.to_datetime('20221231')\n",
    "\n",
    "pd_datetime_count = len(pd.bdate_range(pd_datetime1, pd_datetime2))\n",
    "print(\"Number of business days in 2022:\", pd_datetime_count)"
   ]
  },
  {
   "cell_type": "markdown",
   "id": "4bffec8e",
   "metadata": {},
   "source": [
    "## Date aggregation / splitting\n",
    "\n",
    "We can aggregate dates, e.g. transform monthly to quarterly. As well as split time, e.g. get weekly data from monthly data. In order to do this, the index for your time series needs to be a Pandas `datetime` type:"
   ]
  },
  {
   "cell_type": "code",
   "execution_count": 24,
   "id": "780d5066",
   "metadata": {},
   "outputs": [
    {
     "data": {
      "text/html": [
       "<div>\n",
       "<style scoped>\n",
       "    .dataframe tbody tr th:only-of-type {\n",
       "        vertical-align: middle;\n",
       "    }\n",
       "\n",
       "    .dataframe tbody tr th {\n",
       "        vertical-align: top;\n",
       "    }\n",
       "\n",
       "    .dataframe thead th {\n",
       "        text-align: right;\n",
       "    }\n",
       "</style>\n",
       "<table border=\"1\" class=\"dataframe\">\n",
       "  <thead>\n",
       "    <tr style=\"text-align: right;\">\n",
       "      <th></th>\n",
       "      <th>date</th>\n",
       "      <th>sales</th>\n",
       "    </tr>\n",
       "    <tr>\n",
       "      <th>datetime</th>\n",
       "      <th></th>\n",
       "      <th></th>\n",
       "    </tr>\n",
       "  </thead>\n",
       "  <tbody>\n",
       "    <tr>\n",
       "      <th>2013-01-31</th>\n",
       "      <td>2013-01-31</td>\n",
       "      <td>3794</td>\n",
       "    </tr>\n",
       "    <tr>\n",
       "      <th>2013-02-28</th>\n",
       "      <td>2013-02-28</td>\n",
       "      <td>3863</td>\n",
       "    </tr>\n",
       "    <tr>\n",
       "      <th>2013-03-31</th>\n",
       "      <td>2013-03-31</td>\n",
       "      <td>5190</td>\n",
       "    </tr>\n",
       "    <tr>\n",
       "      <th>2013-04-30</th>\n",
       "      <td>2013-04-30</td>\n",
       "      <td>5783</td>\n",
       "    </tr>\n",
       "    <tr>\n",
       "      <th>2013-05-31</th>\n",
       "      <td>2013-05-31</td>\n",
       "      <td>6298</td>\n",
       "    </tr>\n",
       "  </tbody>\n",
       "</table>\n",
       "</div>"
      ],
      "text/plain": [
       "                  date  sales\n",
       "datetime                     \n",
       "2013-01-31  2013-01-31   3794\n",
       "2013-02-28  2013-02-28   3863\n",
       "2013-03-31  2013-03-31   5190\n",
       "2013-04-30  2013-04-30   5783\n",
       "2013-05-31  2013-05-31   6298"
      ]
     },
     "execution_count": 24,
     "metadata": {},
     "output_type": "execute_result"
    }
   ],
   "source": [
    "ts_data = pd.read_csv('sample_input/ts_data.csv')\n",
    "ts_data = ts_data.assign(datetime = pd.to_datetime(ts_data['date'])).set_index(\"datetime\")\n",
    "ts_data.head()"
   ]
  },
  {
   "cell_type": "markdown",
   "id": "589fdaaf",
   "metadata": {},
   "source": [
    "###  Split to less granular dates\n",
    "\n",
    "We can aggregrate our data to a different frequency using the `resample` method:"
   ]
  },
  {
   "cell_type": "code",
   "execution_count": 25,
   "id": "b627a2a9",
   "metadata": {},
   "outputs": [
    {
     "data": {
      "text/html": [
       "<div>\n",
       "<style scoped>\n",
       "    .dataframe tbody tr th:only-of-type {\n",
       "        vertical-align: middle;\n",
       "    }\n",
       "\n",
       "    .dataframe tbody tr th {\n",
       "        vertical-align: top;\n",
       "    }\n",
       "\n",
       "    .dataframe thead th {\n",
       "        text-align: right;\n",
       "    }\n",
       "</style>\n",
       "<table border=\"1\" class=\"dataframe\">\n",
       "  <thead>\n",
       "    <tr style=\"text-align: right;\">\n",
       "      <th></th>\n",
       "      <th>sales</th>\n",
       "    </tr>\n",
       "    <tr>\n",
       "      <th>datetime</th>\n",
       "      <th></th>\n",
       "    </tr>\n",
       "  </thead>\n",
       "  <tbody>\n",
       "    <tr>\n",
       "      <th>2013-03-31</th>\n",
       "      <td>4282.333333</td>\n",
       "    </tr>\n",
       "    <tr>\n",
       "      <th>2013-06-30</th>\n",
       "      <td>6273.333333</td>\n",
       "    </tr>\n",
       "    <tr>\n",
       "      <th>2013-09-30</th>\n",
       "      <td>6430.666667</td>\n",
       "    </tr>\n",
       "    <tr>\n",
       "      <th>2013-12-31</th>\n",
       "      <td>5254.666667</td>\n",
       "    </tr>\n",
       "    <tr>\n",
       "      <th>2014-03-31</th>\n",
       "      <td>4858.000000</td>\n",
       "    </tr>\n",
       "  </tbody>\n",
       "</table>\n",
       "</div>"
      ],
      "text/plain": [
       "                  sales\n",
       "datetime               \n",
       "2013-03-31  4282.333333\n",
       "2013-06-30  6273.333333\n",
       "2013-09-30  6430.666667\n",
       "2013-12-31  5254.666667\n",
       "2014-03-31  4858.000000"
      ]
     },
     "execution_count": 25,
     "metadata": {},
     "output_type": "execute_result"
    }
   ],
   "source": [
    "# Create quarterly data based on mean of monthly sales\n",
    "ts_data.resample('Q').mean().head()"
   ]
  },
  {
   "cell_type": "markdown",
   "id": "b2a45566",
   "metadata": {},
   "source": [
    "### Aggregate to more granular dates"
   ]
  },
  {
   "cell_type": "code",
   "execution_count": 26,
   "id": "2581dba7",
   "metadata": {},
   "outputs": [
    {
     "data": {
      "text/html": [
       "<div>\n",
       "<style scoped>\n",
       "    .dataframe tbody tr th:only-of-type {\n",
       "        vertical-align: middle;\n",
       "    }\n",
       "\n",
       "    .dataframe tbody tr th {\n",
       "        vertical-align: top;\n",
       "    }\n",
       "\n",
       "    .dataframe thead th {\n",
       "        text-align: right;\n",
       "    }\n",
       "</style>\n",
       "<table border=\"1\" class=\"dataframe\">\n",
       "  <thead>\n",
       "    <tr style=\"text-align: right;\">\n",
       "      <th></th>\n",
       "      <th>sales</th>\n",
       "    </tr>\n",
       "    <tr>\n",
       "      <th>datetime</th>\n",
       "      <th></th>\n",
       "    </tr>\n",
       "  </thead>\n",
       "  <tbody>\n",
       "    <tr>\n",
       "      <th>2013-02-03</th>\n",
       "      <td>3794.0</td>\n",
       "    </tr>\n",
       "    <tr>\n",
       "      <th>2013-02-10</th>\n",
       "      <td>NaN</td>\n",
       "    </tr>\n",
       "    <tr>\n",
       "      <th>2013-02-17</th>\n",
       "      <td>NaN</td>\n",
       "    </tr>\n",
       "    <tr>\n",
       "      <th>2013-02-24</th>\n",
       "      <td>NaN</td>\n",
       "    </tr>\n",
       "    <tr>\n",
       "      <th>2013-03-03</th>\n",
       "      <td>3863.0</td>\n",
       "    </tr>\n",
       "    <tr>\n",
       "      <th>2013-03-10</th>\n",
       "      <td>NaN</td>\n",
       "    </tr>\n",
       "    <tr>\n",
       "      <th>2013-03-17</th>\n",
       "      <td>NaN</td>\n",
       "    </tr>\n",
       "    <tr>\n",
       "      <th>2013-03-24</th>\n",
       "      <td>NaN</td>\n",
       "    </tr>\n",
       "    <tr>\n",
       "      <th>2013-03-31</th>\n",
       "      <td>5190.0</td>\n",
       "    </tr>\n",
       "    <tr>\n",
       "      <th>2013-04-07</th>\n",
       "      <td>NaN</td>\n",
       "    </tr>\n",
       "  </tbody>\n",
       "</table>\n",
       "</div>"
      ],
      "text/plain": [
       "             sales\n",
       "datetime          \n",
       "2013-02-03  3794.0\n",
       "2013-02-10     NaN\n",
       "2013-02-17     NaN\n",
       "2013-02-24     NaN\n",
       "2013-03-03  3863.0\n",
       "2013-03-10     NaN\n",
       "2013-03-17     NaN\n",
       "2013-03-24     NaN\n",
       "2013-03-31  5190.0\n",
       "2013-04-07     NaN"
      ]
     },
     "execution_count": 26,
     "metadata": {},
     "output_type": "execute_result"
    }
   ],
   "source": [
    "# Create weekly data from monthly. The monthly value is assigned to the first week\n",
    "ts_data.resample('W').mean().head(10)"
   ]
  },
  {
   "cell_type": "code",
   "execution_count": 27,
   "id": "9b8a03fb",
   "metadata": {},
   "outputs": [
    {
     "data": {
      "text/html": [
       "<div>\n",
       "<style scoped>\n",
       "    .dataframe tbody tr th:only-of-type {\n",
       "        vertical-align: middle;\n",
       "    }\n",
       "\n",
       "    .dataframe tbody tr th {\n",
       "        vertical-align: top;\n",
       "    }\n",
       "\n",
       "    .dataframe thead th {\n",
       "        text-align: right;\n",
       "    }\n",
       "</style>\n",
       "<table border=\"1\" class=\"dataframe\">\n",
       "  <thead>\n",
       "    <tr style=\"text-align: right;\">\n",
       "      <th></th>\n",
       "      <th>sales</th>\n",
       "    </tr>\n",
       "    <tr>\n",
       "      <th>datetime</th>\n",
       "      <th></th>\n",
       "    </tr>\n",
       "  </thead>\n",
       "  <tbody>\n",
       "    <tr>\n",
       "      <th>2013-02-03</th>\n",
       "      <td>3794.00</td>\n",
       "    </tr>\n",
       "    <tr>\n",
       "      <th>2013-02-10</th>\n",
       "      <td>3811.25</td>\n",
       "    </tr>\n",
       "    <tr>\n",
       "      <th>2013-02-17</th>\n",
       "      <td>3828.50</td>\n",
       "    </tr>\n",
       "    <tr>\n",
       "      <th>2013-02-24</th>\n",
       "      <td>3845.75</td>\n",
       "    </tr>\n",
       "    <tr>\n",
       "      <th>2013-03-03</th>\n",
       "      <td>3863.00</td>\n",
       "    </tr>\n",
       "  </tbody>\n",
       "</table>\n",
       "</div>"
      ],
      "text/plain": [
       "              sales\n",
       "datetime           \n",
       "2013-02-03  3794.00\n",
       "2013-02-10  3811.25\n",
       "2013-02-17  3828.50\n",
       "2013-02-24  3845.75\n",
       "2013-03-03  3863.00"
      ]
     },
     "execution_count": 27,
     "metadata": {},
     "output_type": "execute_result"
    }
   ],
   "source": [
    "# Interpolation\n",
    "ts_data.resample('W').mean().interpolate(method='time').head()"
   ]
  },
  {
   "cell_type": "markdown",
   "id": "99f12dc7",
   "metadata": {},
   "source": [
    "[Table of contents](#table-of-contents)"
   ]
  }
 ],
 "metadata": {
  "kernelspec": {
   "display_name": "Python 3",
   "language": "python",
   "name": "python3"
  },
  "language_info": {
   "codemirror_mode": {
    "name": "ipython",
    "version": 3
   },
   "file_extension": ".py",
   "mimetype": "text/x-python",
   "name": "python",
   "nbconvert_exporter": "python",
   "pygments_lexer": "ipython3",
   "version": "3.9.5"
  },
  "toc": {
   "base_numbering": 1,
   "nav_menu": {},
   "number_sections": true,
   "sideBar": true,
   "skip_h1_title": false,
   "title_cell": "Table of Contents",
   "title_sidebar": "Contents",
   "toc_cell": false,
   "toc_position": {
    "height": "calc(100% - 180px)",
    "left": "10px",
    "top": "150px",
    "width": "303px"
   },
   "toc_section_display": true,
   "toc_window_display": true
  }
 },
 "nbformat": 4,
 "nbformat_minor": 5
}
